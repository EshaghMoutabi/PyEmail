{
 "cells": [
  {
   "cell_type": "code",
   "execution_count": null,
   "metadata": {},
   "outputs": [],
   "source": [
    "import PyPDF2 \n",
    "from tika import parser\n",
    "import linecache\n",
    "import os\n",
    "import re"
   ]
  },
  {
   "cell_type": "code",
   "execution_count": null,
   "metadata": {},
   "outputs": [],
   "source": [
    "Path='YOUR FILE PATH'"
   ]
  },
  {
   "cell_type": "code",
   "execution_count": null,
   "metadata": {},
   "outputs": [],
   "source": [
    "pdfFileObj = open('EXAMPLE.pdf', 'rb')"
   ]
  },
  {
   "cell_type": "code",
   "execution_count": null,
   "metadata": {},
   "outputs": [],
   "source": [
    "#THIS METHOD I FOUND ON STACK OVERFLOW IS NOT GOOD  BEACUSE IT HAS PROBLEM IN SOME PDFs.\n",
    "\n",
    "\"\"\"import PyPDF2\n",
    "pdfFileObject = open('EXAMPLE.pdf', 'rb')\n",
    "pdfReader = PyPDF2.PdfFileReader(pdfFileObject)\n",
    "count = pdfReader.numPages\n",
    "print(count)\n",
    "#for i in range(count):\n",
    "page = pdfReader.getPage(10)\n",
    "#if page=='@':\n",
    "print(page.extractText())\"\"\""
   ]
  },
  {
   "cell_type": "code",
   "execution_count": null,
   "metadata": {},
   "outputs": [],
   "source": [
    "\"\"\"STAGES:\n",
    "1-READ PDF OR ANY FILES\n",
    "2- EXTRACT EMAIL ADDRESS WITH REGEX\n",
    "3-REMOVE DUPLICATES\n",
    "\"\"\""
   ]
  },
  {
   "cell_type": "code",
   "execution_count": null,
   "metadata": {},
   "outputs": [],
   "source": [
    "#THIS METHOD I FOUND ON STACK OVERFLOW IS NOT GOOD  BEACUSE IT HAS PROBLEM IN SOME PDFs.\n",
    "\"\"\"raw = parser.from_file('YOUR PATH')\n",
    "raw = str(raw)\n",
    "\n",
    "safe_text = raw.encode('utf-8', errors='ignore')\n",
    "\n",
    "print(str(safe_text))\n",
    "\n",
    "all_lines = safe_text.readlines()\n",
    "print(all_lines[4])\"\"\""
   ]
  },
  {
   "cell_type": "code",
   "execution_count": null,
   "metadata": {},
   "outputs": [],
   "source": [
    "#THIS WORKS !!\n",
    "raw = parser.from_file(zz)\n",
    "print(len(raw['content']))\n",
    "x= raw['content']\n",
    "print(x[25270:25294])\n"
   ]
  },
  {
   "cell_type": "code",
   "execution_count": null,
   "metadata": {},
   "outputs": [],
   "source": [
    "#THIS IS FOR SEEING THE OUTPUT\n",
    "[sentence + ' ' for sentence in x.split(' ') if '@' in sentence]"
   ]
  },
  {
   "cell_type": "code",
   "execution_count": null,
   "metadata": {},
   "outputs": [],
   "source": [
    "#RENAMEING FILES FOR MAKE IT EASY TO WORK!'\n",
    "i=0\n",
    "for filename in os.listdir(Path): \n",
    "    dst =str(i) + \".pdf\"\n",
    "    src =Path+ filename \n",
    "    dst =Path+ dst \n",
    "    os.rename(src, dst) \n",
    "    i += 1"
   ]
  },
  {
   "cell_type": "code",
   "execution_count": null,
   "metadata": {},
   "outputs": [],
   "source": [
    "#TO MAKE THE PATH COMPLETE\n",
    "#YOUR PATH SHOULD BE LIKE THIS:\n",
    "#/home/FOO/FILES/\n",
    "\n",
    "files = []\n",
    "# r=root, d=directories, f = files\n",
    "for r, d, f in os.walk(Path):\n",
    "    for file in f:\n",
    "        if '.pdf' in file:\n",
    "            files.append(os.path.join(r, file))\n",
    "      \n",
    "\n",
    "#REGEX WORKS FOR DETECTING EMAILS PERFECT!!! LIKE A BOSS O_0\n",
    "#(r'[\\w\\.-]+@[\\w\\.-]+', (YOUR FILENAME OR TEXT))\n",
    "#\\w+\\w+.\\w+([@])\\w\\w+.\\w+.\\w+\\w+\n",
    "cnt=0\n",
    "final=[]\n",
    "for f in files:\n",
    "    raw = parser.from_file(str(f))\n",
    "    x= raw['content']\n",
    "    cnt=cnt+1\n",
    "    ans=[sentence + ' ' for sentence in x.split(' ') if '@' in sentence]\n",
    "    ans=str(ans).replace(\"\\\\n\", \" \")\n",
    "    ans =str(ans).replace(\"\\n\\n\\n \", \" \")\n",
    "    ans =str(ans).replace(\":\", \" \")\n",
    "    ans =str(ans).replace(\"'\", \" \")\n",
    "    out= re.findall(r'[\\w\\.-]+@[\\w\\.-]+', ans)\n",
    "    print(str(out))\n",
    "    final +=out"
   ]
  },
  {
   "cell_type": "code",
   "execution_count": null,
   "metadata": {},
   "outputs": [],
   "source": [
    "OUTPUT=final"
   ]
  },
  {
   "cell_type": "code",
   "execution_count": null,
   "metadata": {},
   "outputs": [],
   "source": [
    "#REMOVE DUPLICATES\n",
    "res = [] \n",
    "for i in OUTPUT: \n",
    "    if i not in res: \n",
    "        res.append(i)"
   ]
  },
  {
   "cell_type": "code",
   "execution_count": null,
   "metadata": {},
   "outputs": [],
   "source": [
    "len(res)"
   ]
  },
  {
   "cell_type": "code",
   "execution_count": null,
   "metadata": {},
   "outputs": [],
   "source": [
    "res2=str(OUTPUT).replace(\"'\",\" \")\n",
    "res3=str(res2).replace(\",\",\"\\n\")"
   ]
  },
  {
   "cell_type": "code",
   "execution_count": null,
   "metadata": {},
   "outputs": [],
   "source": [
    "File_object = open(r\"ALL_EMAILS_V2\",\"w\")\n",
    "File_object.write(str(res3)) "
   ]
  },
  {
   "cell_type": "code",
   "execution_count": null,
   "metadata": {},
   "outputs": [],
   "source": [
    "len(res3)"
   ]
  }
 ],
 "metadata": {
  "kernelspec": {
   "display_name": "Python 3",
   "language": "python",
   "name": "python3"
  },
  "language_info": {
   "codemirror_mode": {
    "name": "ipython",
    "version": 3
   },
   "file_extension": ".py",
   "mimetype": "text/x-python",
   "name": "python",
   "nbconvert_exporter": "python",
   "pygments_lexer": "ipython3",
   "version": "3.6.8"
  }
 },
 "nbformat": 4,
 "nbformat_minor": 2
}
